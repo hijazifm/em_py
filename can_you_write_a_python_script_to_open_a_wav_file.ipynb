{
  "cells": [
    {
      "cell_type": "markdown",
      "metadata": {
        "id": "view-in-github",
        "colab_type": "text"
      },
      "source": [
        "<a href=\"https://colab.research.google.com/github/hijazifm/em_py/blob/master/can_you_write_a_python_script_to_open_a_wav_file.ipynb\" target=\"_parent\"><img src=\"https://colab.research.google.com/assets/colab-badge.svg\" alt=\"Open In Colab\"/></a>"
      ]
    },
    {
      "cell_type": "markdown",
      "source": [
        "Sure, here is a Python script to open a .wav file:"
      ],
      "metadata": {
        "id": "AtOFIEcQqzOL"
      }
    },
    {
      "cell_type": "code",
      "source": [
        "import wave\n",
        "import matplotlib.pyplot as plt\n",
        "\n",
        "\n",
        "# Get the file name from the user\n",
        "#filename = input(\"Enter the file name: \")\n",
        "\n",
        "# Open the file in read mode\n",
        "wf = wave.open(\"/content/sample_data/fred.wav\", \"rb\")\n",
        "\n",
        "# Get the file properties\n",
        "channels = wf.getnchannels()\n",
        "sample_width = wf.getsampwidth()\n",
        "frames = wf.getnframes()\n",
        "sampling_rate = wf.getframerate()\n",
        "\n",
        "# Print the file properties\n",
        "print(\"Channels:\", channels)\n",
        "print(\"Sample width:\", sample_width)\n",
        "print(\"Frames:\", frames)\n",
        "print(\"Sampling rate:\", sampling_rate)\n",
        "\n",
        "# Get the audio data\n",
        "data = wf.readframes(frames)\n",
        "num_bytes = len(data)\n",
        "sixteenbits = []\n",
        "signedsixteens = []\n",
        "for i in range(0, num_bytes, 2):\n",
        "  sixteenbit = data[i+1] << 8 | data[i]\n",
        "  sixteenbits.append(sixteenbit)\n",
        "  if sixteenbit > 2**15:\n",
        "    signedsixteen = -(2**15)+(sixteenbit-2**15)\n",
        "  else:\n",
        "    signedsixteen = sixteenbit\n",
        "  signedsixteens.append(signedsixteen)\n",
        "\n",
        "\n",
        "\n",
        "\n",
        "print(\"The 16-bit integers are:\")\n",
        "print(sixteenbits)\n",
        "\n",
        "print(\"The signed 16-bit integers are:\")\n",
        "print(signedsixteens)\n",
        "\n",
        "# Convert the audio data to a list\n",
        "audio_data = list(data)\n",
        "hex_data = [hex(i) for i in audio_data]\n",
        "\n",
        "\n",
        "# Print the first 10 values of the audio data\n",
        "print(\"The first 100 values of the audio data are:\")\n",
        "print(audio_data[:10])\n",
        "print(\"The first 100 values of the audio data in hexadecimal are:\")\n",
        "print(hex_data[:10])\n",
        "\n",
        "# Close the file\n",
        "wf.close()\n"
      ],
      "outputs": [
        {
          "output_type": "stream",
          "name": "stdout",
          "text": [
            "Channels: 1\n",
            "Sample width: 2\n",
            "Frames: 6873\n",
            "Sampling rate: 16000\n",
            "The 16-bit integers are:\n",
            "[65520, 3, 65521, 23, 65523, 65524, 23, 65519, 26, 65516, 65510, 65523, 10, 3, 8, 65531, 65521, 31, 0, 6, 65533, 65528, 13, 9, 65521, 4, 65535, 13, 19, 65526, 25, 65505, 9, 65522, 27, 45, 65530, 38, 65516, 20, 65533, 7, 5, 65517, 28, 65522, 47, 65515, 65508, 18, 65530, 42, 4, 25, 11, 65518, 16, 65497, 8, 65510, 65533, 65533, 65526, 30, 65519, 65529, 65530, 1, 7, 65503, 65529, 65509, 65531, 65529, 65518, 6, 65524, 65531, 65529, 65513, 8, 15, 19, 29, 65522, 18, 1, 65535, 5, 5, 10, 24, 65533, 65520, 6, 65523, 27, 65520, 20, 23]\n",
            "The signed 16-bit integers are:\n",
            "[-16, 3, -15, 23, -13, -12, 23, -17, 26, -20, -26, -13, 10, 3, 8, -5, -15, 31, 0, 6, -3, -8, 13, 9, -15, 4, -1, 13, 19, -10, 25, -31, 9, -14, 27, 45, -6, 38, -20, 20, -3, 7, 5, -19, 28, -14, 47, -21, -28, 18, -6, 42, 4, 25, 11, -18, 16, -39, 8, -26, -3, -3, -10, 30, -17, -7, -6, 1, 7, -33, -7, -27, -5, -7, -18, 6, -12, -5, -7, -23, 8, 15, 19, 29, -14, 18, 1, -1, 5, 5, 10, 24, -3, -16, 6, -13, 27, -16, 20, 23]\n",
            "The first 100 values of the audio data are:\n",
            "[240, 255, 3, 0, 241, 255, 23, 0, 243, 255]\n",
            "The first 100 values of the audio data in hexadecimal are:\n",
            "['0xf0', '0xff', '0x3', '0x0', '0xf1', '0xff', '0x17', '0x0', '0xf3', '0xff']\n"
          ]
        }
      ],
      "execution_count": 17,
      "metadata": {
        "colab": {
          "base_uri": "https://localhost:8080/"
        },
        "id": "FvO-SP_fqzOP",
        "outputId": "b3e7a66b-100c-4ff7-a7d2-c31277ef969c"
      }
    },
    {
      "cell_type": "markdown",
      "source": [
        "# New Section"
      ],
      "metadata": {
        "id": "bSii5GMOr5n1"
      }
    },
    {
      "cell_type": "markdown",
      "source": [
        "This script will first get the file name from the user. Then, it will open the file in read mode using the `wave` module. The `wave` module provides a class called `Wave_read` for reading WAV files. The `open()` method of the `Wave_read` class takes the file name and mode as arguments. The mode can be \"rb\" for read binary or \"wb\" for write binary.\n",
        "\n",
        "Once the file is opened, the script will get the following file properties:\n",
        "\n",
        "* The number of channels\n",
        "* The sample width\n",
        "* The number of frames\n",
        "* The sampling rate\n",
        "\n",
        "The script will then print the file properties to the console. Finally, the script will close the file.\n",
        "\n",
        "To run this script, you can save it as a `.py` file and then run it in a Python interpreter. For example, if you saved the script as `open_wav.py`, you could run it by typing the following command in the terminal:\n",
        "\n",
        "```\n",
        "python open_wav.py\n",
        "```\n",
        "\n",
        "This will prompt you to enter the file name. Enter the file name of the WAV file that you want to open and press Enter. The script will then print the file properties to the console."
      ],
      "metadata": {
        "id": "gonP4t_xqzOQ"
      }
    }
  ],
  "metadata": {
    "colab": {
      "provenance": [],
      "include_colab_link": true
    },
    "kernelspec": {
      "display_name": "Python 3",
      "name": "python3"
    }
  },
  "nbformat": 4,
  "nbformat_minor": 0
}